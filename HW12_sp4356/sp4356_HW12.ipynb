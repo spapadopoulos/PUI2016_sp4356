{
 "cells": [
  {
   "cell_type": "code",
   "execution_count": 155,
   "metadata": {
    "collapsed": true
   },
   "outputs": [],
   "source": [
    "import ast\n",
    "import urllib2\n",
    "import urllib\n",
    "from cStringIO import StringIO\n",
    "import json\n",
    "import geopandas as gpd\n",
    "import pandas as pd\n",
    "from fiona.crs import from_epsg\n",
    "import numpy as np\n",
    "from scipy.spatial.distance import pdist, squareform\n",
    "import matplotlib.pylab as plt\n",
    "%matplotlib inline"
   ]
  },
  {
   "cell_type": "code",
   "execution_count": 2,
   "metadata": {
    "collapsed": true
   },
   "outputs": [],
   "source": [
    "SQL_SOURCE = 'https://fb55.carto.com/api/v2/sql'"
   ]
  },
  {
   "cell_type": "code",
   "execution_count": 3,
   "metadata": {
    "collapsed": true
   },
   "outputs": [],
   "source": [
    "def queryCartoDB(query, format='CSV', source=SQL_SOURCE):\n",
    "    \"\"\" queries a url with an sql compatible search\n",
    "    Arguments:\n",
    "    query : the sql query string\n",
    "    format : the expected format\n",
    "    source \" the url of the API\n",
    "    \"\"\"\n",
    "    data = urllib.urlencode({'format': format, 'q': query})\n",
    "    try:\n",
    "        response = urllib2.urlopen(source, data)\n",
    "    except urllib2.HTTPError, e:\n",
    "        raise ValueError('\\n'.join(ast.literal_eval(e.readline())['error']))\n",
    "    except Exception:\n",
    "        raise\n",
    "    return StringIO(response.read())"
   ]
  },
  {
   "cell_type": "code",
   "execution_count": 227,
   "metadata": {
    "collapsed": false
   },
   "outputs": [
    {
     "data": {
      "text/html": [
       "<div>\n",
       "<table border=\"1\" class=\"dataframe\">\n",
       "  <thead>\n",
       "    <tr style=\"text-align: right;\">\n",
       "      <th></th>\n",
       "      <th>count</th>\n",
       "      <th>zipcodes</th>\n",
       "    </tr>\n",
       "  </thead>\n",
       "  <tbody>\n",
       "    <tr>\n",
       "      <th>0</th>\n",
       "      <td>1699</td>\n",
       "      <td>10461</td>\n",
       "    </tr>\n",
       "    <tr>\n",
       "      <th>1</th>\n",
       "      <td>405</td>\n",
       "      <td>11373</td>\n",
       "    </tr>\n",
       "    <tr>\n",
       "      <th>2</th>\n",
       "      <td>1698</td>\n",
       "      <td>10451</td>\n",
       "    </tr>\n",
       "    <tr>\n",
       "      <th>3</th>\n",
       "      <td>220</td>\n",
       "      <td>11691</td>\n",
       "    </tr>\n",
       "    <tr>\n",
       "      <th>4</th>\n",
       "      <td>246</td>\n",
       "      <td>11375</td>\n",
       "    </tr>\n",
       "  </tbody>\n",
       "</table>\n",
       "</div>"
      ],
      "text/plain": [
       "   count  zipcodes\n",
       "0   1699     10461\n",
       "1    405     11373\n",
       "2   1698     10451\n",
       "3    220     11691\n",
       "4    246     11375"
      ]
     },
     "execution_count": 227,
     "metadata": {},
     "output_type": "execute_result"
    }
   ],
   "source": [
    "facilityQuery = 'SELECT COUNT(zipcodes),zipcodes FROM nycasthmasdismissals GROUP BY zipcodes'\n",
    "facilityStream = queryCartoDB(facilityQuery, format='JSON')\n",
    "facilityData = json.loads(facilityStream.read())\n",
    "facilityData\n",
    "facilities = pd.DataFrame.from_dict(facilityData['rows'])\n",
    "facilities.head()"
   ]
  },
  {
   "cell_type": "code",
   "execution_count": 228,
   "metadata": {
    "collapsed": false
   },
   "outputs": [],
   "source": [
    "facilities.columns = ['counts','ZIPCODE']"
   ]
  },
  {
   "cell_type": "code",
   "execution_count": 229,
   "metadata": {
    "collapsed": false
   },
   "outputs": [],
   "source": [
    "df = gpd.read_file('ZIP_CODE_040114\\ZIP_CODE_040114.shp')"
   ]
  },
  {
   "cell_type": "code",
   "execution_count": 230,
   "metadata": {
    "collapsed": false
   },
   "outputs": [
    {
     "data": {
      "text/html": [
       "<div>\n",
       "<table border=\"1\" class=\"dataframe\">\n",
       "  <thead>\n",
       "    <tr style=\"text-align: right;\">\n",
       "      <th></th>\n",
       "      <th>AREA</th>\n",
       "      <th>BLDGZIP</th>\n",
       "      <th>COUNTY</th>\n",
       "      <th>CTY_FIPS</th>\n",
       "      <th>POPULATION</th>\n",
       "      <th>PO_NAME</th>\n",
       "      <th>SHAPE_AREA</th>\n",
       "      <th>SHAPE_LEN</th>\n",
       "      <th>STATE</th>\n",
       "      <th>ST_FIPS</th>\n",
       "      <th>URL</th>\n",
       "      <th>ZIPCODE</th>\n",
       "      <th>geometry</th>\n",
       "    </tr>\n",
       "  </thead>\n",
       "  <tbody>\n",
       "    <tr>\n",
       "      <th>0</th>\n",
       "      <td>2.269930e+07</td>\n",
       "      <td>0</td>\n",
       "      <td>Queens</td>\n",
       "      <td>081</td>\n",
       "      <td>18681.0</td>\n",
       "      <td>Jamaica</td>\n",
       "      <td>0.0</td>\n",
       "      <td>0.0</td>\n",
       "      <td>NY</td>\n",
       "      <td>36</td>\n",
       "      <td>http://www.usps.com/</td>\n",
       "      <td>11436</td>\n",
       "      <td>POLYGON ((1038098.251871482 188138.3800067157,...</td>\n",
       "    </tr>\n",
       "  </tbody>\n",
       "</table>\n",
       "</div>"
      ],
      "text/plain": [
       "           AREA BLDGZIP  COUNTY CTY_FIPS  POPULATION  PO_NAME  SHAPE_AREA  \\\n",
       "0  2.269930e+07       0  Queens      081     18681.0  Jamaica         0.0   \n",
       "\n",
       "   SHAPE_LEN STATE ST_FIPS                   URL ZIPCODE  \\\n",
       "0        0.0    NY      36  http://www.usps.com/   11436   \n",
       "\n",
       "                                            geometry  \n",
       "0  POLYGON ((1038098.251871482 188138.3800067157,...  "
      ]
     },
     "execution_count": 230,
     "metadata": {},
     "output_type": "execute_result"
    }
   ],
   "source": [
    "df.head(1)"
   ]
  },
  {
   "cell_type": "code",
   "execution_count": 231,
   "metadata": {
    "collapsed": true
   },
   "outputs": [],
   "source": [
    "df['centroid'] = df.geometry.centroid"
   ]
  },
  {
   "cell_type": "code",
   "execution_count": 123,
   "metadata": {
    "collapsed": true
   },
   "outputs": [],
   "source": [
    "# No need to switch in lat/long\n",
    "# df.crs = from_epsg(2263)\n",
    "# df_latlong = df.to_crs(epsg=4326).centroid"
   ]
  },
  {
   "cell_type": "code",
   "execution_count": 233,
   "metadata": {
    "collapsed": false
   },
   "outputs": [],
   "source": [
    "df['centroid_lat_long'] = df_latlong"
   ]
  },
  {
   "cell_type": "code",
   "execution_count": 234,
   "metadata": {
    "collapsed": false
   },
   "outputs": [],
   "source": [
    "df_new = df[['ZIPCODE','centroid']]\n",
    "df_new.ZIPCODE = df_new.ZIPCODE.astype(int)"
   ]
  },
  {
   "cell_type": "code",
   "execution_count": 235,
   "metadata": {
    "collapsed": false
   },
   "outputs": [],
   "source": [
    "merged = pd.merge(facilities,df_new,on='ZIPCODE')"
   ]
  },
  {
   "cell_type": "code",
   "execution_count": 236,
   "metadata": {
    "collapsed": false
   },
   "outputs": [],
   "source": [
    "merged['Easting'] = [merged.centroid[i].x for i in range (0,len(merged))]\n",
    "merged['Northing'] = [merged.centroid[i].y for i in range (0,len(merged))]"
   ]
  },
  {
   "cell_type": "code",
   "execution_count": 237,
   "metadata": {
    "collapsed": false
   },
   "outputs": [
    {
     "data": {
      "image/png": "[encoded data removed]",
      "text/plain": [
       "<matplotlib.figure.Figure at 0x1626e7b8>"
      ]
     },
     "metadata": {},
     "output_type": "display_data"
    }
   ],
   "source": [
    "plt.figure(figsize=(9,9))\n",
    "plt.scatter(merged.Easting, merged.Northing, s=100, c=merged['counts'], cmap='Reds')\n",
    "plt.xlabel('Easting (m)',size=16)\n",
    "plt.ylabel('Northing (m)',size=16)\n",
    "plt.title('Number of dismissals per location',size=20)\n",
    "plt.show()"
   ]
  },
  {
   "cell_type": "markdown",
   "metadata": {},
   "source": [
    "## Figure 1\n",
    "Shows the spatial distribution of asthma related dismissals in NYC zipcodes "
   ]
  },
  {
   "cell_type": "code",
   "execution_count": 148,
   "metadata": {
    "collapsed": true
   },
   "outputs": [],
   "source": [
    "def SVh_vctzd( P, h, bw ):\n",
    "    '''\n",
    "    Experimental semivariogram for a single lag\n",
    "    bw max distance\n",
    "    h lag\n",
    "    P data\n",
    "    '''\n",
    "    pdsv = squareform( pdist( P[:,:2] ) )\n",
    "    #print pdsv\n",
    "    N = pdsv.shape[0]\n",
    "    #print N\n",
    "    #print np.triu_indices(N)\n",
    "    Z = np.zeros((N,N))\n",
    "    Z = Z - P[:,2]\n",
    "    #print Z\n",
    "    Z = Z.T + P[:,2]\n",
    "    #print Z\n",
    "    Z = Z**2\n",
    "    #print Z\n",
    "    Zcd =  Z[(pdsv >= h - bw) * (pdsv <= h + bw) * \\\n",
    "            (~np.identity(N, dtype=bool))]\n",
    "\n",
    "    #print Zcd\n",
    "    return np.sum( Zcd ) / ( 2.0 * len( Zcd ) )\n",
    "\n",
    "def SVh( P, h, bw ):\n",
    "    '''\n",
    "    Experimental semivariogram for a single lag\n",
    "    bw max distance\n",
    "    h lag\n",
    "    P data\n",
    "    '''\n",
    "    #distance matrix (eucledian)\n",
    "    pdsv = squareform( pdist( P[:,:2] ) )\n",
    "    #print pdsv\n",
    "    N = pdsv.shape[0]\n",
    "    #print N\n",
    "\n",
    "    Z = list()\n",
    "    for i in range(N):\n",
    "        for j in range(i+1, N):\n",
    "            #select only pair of points at the appropriate lag\n",
    "            if( pdsv[i,j] >= h - bw )and( pdsv[i,j] <= h + bw ):\n",
    "                Z.append( ( P[i,2] - P[j,2] )**2.0 )\n",
    "    #print Z\n",
    "    return np.sum( Z ) / ( 2.0 * len( Z ) )\n",
    "\n",
    "\n",
    "def SV( P, hs, bw ):\n",
    "    '''\n",
    "    Experimental variogram for a collection of lags\n",
    "    '''\n",
    "    sv = list()\n",
    "    for h in hs:\n",
    "        #print h\n",
    "        sv.append( SVh( P, h, bw ) )\n",
    "        #sv.append( SVh_vctzd ( P, h, bw ) )\n",
    "    sv = [ [ hs[i], sv[i] ] for i in range( len( hs ) ) if sv[i] > 0 ]\n",
    "    return np.array( sv ).T"
   ]
  },
  {
   "cell_type": "code",
   "execution_count": 159,
   "metadata": {
    "collapsed": false
   },
   "outputs": [],
   "source": [
    "x = np.asarray(merged[['counts','Easting','Northing']])"
   ]
  },
  {
   "cell_type": "code",
   "execution_count": 224,
   "metadata": {
    "collapsed": false
   },
   "outputs": [],
   "source": [
    "lag = 10000\n",
    "mysv = SV( x, np.arange(1, 200000, lag),50000)"
   ]
  },
  {
   "cell_type": "code",
   "execution_count": 225,
   "metadata": {
    "collapsed": false
   },
   "outputs": [
    {
     "data": {
      "text/plain": [
       "array([[  1.00000000e+00,   1.00010000e+04,   2.00010000e+04,\n",
       "          3.00010000e+04,   4.00010000e+04,   5.00010000e+04,\n",
       "          6.00010000e+04,   7.00010000e+04,   8.00010000e+04,\n",
       "          9.00010000e+04,   1.00001000e+05,   1.10001000e+05,\n",
       "          1.20001000e+05,   1.30001000e+05,   1.40001000e+05,\n",
       "          1.50001000e+05,   1.60001000e+05,   1.70001000e+05,\n",
       "          1.80001000e+05,   1.90001000e+05],\n",
       "       [  1.09480976e+09,   1.08118303e+09,   1.09651034e+09,\n",
       "          1.09880544e+09,   1.13747275e+09,   1.15638549e+09,\n",
       "          1.29963658e+09,   1.36673437e+09,   1.39107397e+09,\n",
       "          1.52360844e+09,   1.62755581e+09,   1.89676295e+09,\n",
       "          2.21259975e+09,   2.80263253e+09,   3.20645329e+09,\n",
       "          3.07820305e+09,   1.96133638e+09,   1.72911602e+09,\n",
       "          3.13871114e+09,   3.13871114e+09]])"
      ]
     },
     "execution_count": 225,
     "metadata": {},
     "output_type": "execute_result"
    }
   ],
   "source": [
    "mysv"
   ]
  },
  {
   "cell_type": "code",
   "execution_count": 226,
   "metadata": {
    "collapsed": false
   },
   "outputs": [
    {
     "data": {
      "text/plain": [
       "<matplotlib.text.Text at 0x1a5a9b70>"
      ]
     },
     "execution_count": 226,
     "metadata": {},
     "output_type": "execute_result"
    },
    {
     "data": {
      "image/png": "[encoded data removed]",
      "text/plain": [
       "<matplotlib.figure.Figure at 0x1a3b06d8>"
      ]
     },
     "metadata": {},
     "output_type": "display_data"
    }
   ],
   "source": [
    "plt.figure(figsize=(10,10))\n",
    "plt.plot( mysv[0], mysv[1], '.-' )\n",
    "plt.xlabel('Lag [m]', fontsize=20)\n",
    "plt.ylabel('Semivariogram', fontsize=20)\n",
    "plt.title('Sample Semivariogram\\nasthma dismissal cases, lag %dm'%lag, fontsize=20)"
   ]
  },
  {
   "cell_type": "markdown",
   "metadata": {},
   "source": [
    "## Figure 2\n",
    "Shows the semivariogram of asthma related dismissal cases. We observe high correlation among close points (values in y-axis closee to 1). The correlation decreases as the lag increases. The gap after the lag of 150,000 is probably due to some implementation error. "
   ]
  },
  {
   "cell_type": "code",
   "execution_count": null,
   "metadata": {
    "collapsed": true
   },
   "outputs": [],
   "source": [
    "#@Review: comment on what's happening, what you infer from plot trends? See solution."
   ]
  }
 ],
 "metadata": {
  "kernelspec": {
   "display_name": "Python 2",
   "language": "python",
   "name": "python2"
  },
  "language_info": {
   "codemirror_mode": {
    "name": "ipython",
    "version": 2
   },
   "file_extension": ".py",
   "mimetype": "text/x-python",
   "name": "python",
   "nbconvert_exporter": "python",
   "pygments_lexer": "ipython2",
   "version": "2.7.12"
  }
 },
 "nbformat": 4,
 "nbformat_minor": 0
}
